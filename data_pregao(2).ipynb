{
 "cells": [
  {
   "cell_type": "code",
   "execution_count": 1,
   "metadata": {},
   "outputs": [],
   "source": [
    "import pandas as pd\n",
    "\n",
    "db = pd.read_csv('TradeInformationConsolidatedFile_20200406_1.csv', sep=';', decimal=',')"
   ]
  },
  {
   "cell_type": "code",
   "execution_count": 26,
   "metadata": {},
   "outputs": [
    {
     "data": {
      "text/plain": [
       "0.48187932000747247"
      ]
     },
     "execution_count": 26,
     "metadata": {},
     "output_type": "execute_result"
    }
   ],
   "source": [
    "sorted_db = db.sort_values('FinInstrmQty', ascending=False)\n",
    "calls = sorted_db[sorted_db['SgmtNm'] == 'EQUITY CALL']\n",
    "puts = sorted_db[sorted_db['SgmtNm'] == 'EQUITY PUT']\n",
    "\n",
    "put_call_ratio = puts['TradQty'].sum()/calls['TradQty'].sum()\n",
    "put_call_ratio"
   ]
  },
  {
   "cell_type": "code",
   "execution_count": 25,
   "metadata": {},
   "outputs": [
    {
     "data": {
      "text/html": [
       "<div>\n",
       "<style scoped>\n",
       "    .dataframe tbody tr th:only-of-type {\n",
       "        vertical-align: middle;\n",
       "    }\n",
       "\n",
       "    .dataframe tbody tr th {\n",
       "        vertical-align: top;\n",
       "    }\n",
       "\n",
       "    .dataframe thead th {\n",
       "        text-align: right;\n",
       "    }\n",
       "</style>\n",
       "<table border=\"1\" class=\"dataframe\">\n",
       "  <thead>\n",
       "    <tr style=\"text-align: right;\">\n",
       "      <th></th>\n",
       "      <th>RptDt</th>\n",
       "      <th>TckrSymb</th>\n",
       "      <th>ISIN</th>\n",
       "      <th>SgmtNm</th>\n",
       "      <th>MinPric</th>\n",
       "      <th>MaxPric</th>\n",
       "      <th>TradAvrgPric</th>\n",
       "      <th>LastPric</th>\n",
       "      <th>AdjstdQt</th>\n",
       "      <th>RefPric</th>\n",
       "      <th>TradQty</th>\n",
       "      <th>FinInstrmQty</th>\n",
       "    </tr>\n",
       "  </thead>\n",
       "  <tbody>\n",
       "    <tr>\n",
       "      <th>788</th>\n",
       "      <td>2020-04-06</td>\n",
       "      <td>FNAM11</td>\n",
       "      <td>BRFNAMCTF013</td>\n",
       "      <td>CASH</td>\n",
       "      <td>0.13</td>\n",
       "      <td>0.14</td>\n",
       "      <td>0.13</td>\n",
       "      <td>0.13</td>\n",
       "      <td>NaN</td>\n",
       "      <td>NaN</td>\n",
       "      <td>73.0</td>\n",
       "      <td>476270000.0</td>\n",
       "    </tr>\n",
       "    <tr>\n",
       "      <th>1073</th>\n",
       "      <td>2020-04-06</td>\n",
       "      <td>PETR4</td>\n",
       "      <td>BRPETRACNPR6</td>\n",
       "      <td>CASH</td>\n",
       "      <td>15.18</td>\n",
       "      <td>16.10</td>\n",
       "      <td>15.69</td>\n",
       "      <td>15.77</td>\n",
       "      <td>NaN</td>\n",
       "      <td>NaN</td>\n",
       "      <td>145376.0</td>\n",
       "      <td>123934200.0</td>\n",
       "    </tr>\n",
       "    <tr>\n",
       "      <th>1365</th>\n",
       "      <td>2020-04-06</td>\n",
       "      <td>VVAR3</td>\n",
       "      <td>BRVVARACNOR1</td>\n",
       "      <td>CASH</td>\n",
       "      <td>4.08</td>\n",
       "      <td>4.58</td>\n",
       "      <td>4.33</td>\n",
       "      <td>4.36</td>\n",
       "      <td>NaN</td>\n",
       "      <td>NaN</td>\n",
       "      <td>53030.0</td>\n",
       "      <td>89393700.0</td>\n",
       "    </tr>\n",
       "    <tr>\n",
       "      <th>1048</th>\n",
       "      <td>2020-04-06</td>\n",
       "      <td>OIBR3</td>\n",
       "      <td>BROIBRACNOR1</td>\n",
       "      <td>CASH</td>\n",
       "      <td>0.47</td>\n",
       "      <td>0.50</td>\n",
       "      <td>0.48</td>\n",
       "      <td>0.48</td>\n",
       "      <td>NaN</td>\n",
       "      <td>NaN</td>\n",
       "      <td>7080.0</td>\n",
       "      <td>78541300.0</td>\n",
       "    </tr>\n",
       "    <tr>\n",
       "      <th>483</th>\n",
       "      <td>2020-04-06</td>\n",
       "      <td>BBDC4</td>\n",
       "      <td>BRBBDCACNPR8</td>\n",
       "      <td>CASH</td>\n",
       "      <td>20.53</td>\n",
       "      <td>21.38</td>\n",
       "      <td>21.04</td>\n",
       "      <td>21.03</td>\n",
       "      <td>NaN</td>\n",
       "      <td>NaN</td>\n",
       "      <td>70332.0</td>\n",
       "      <td>56656600.0</td>\n",
       "    </tr>\n",
       "  </tbody>\n",
       "</table>\n",
       "</div>"
      ],
      "text/plain": [
       "           RptDt TckrSymb          ISIN SgmtNm  MinPric  MaxPric  \\\n",
       "788   2020-04-06   FNAM11  BRFNAMCTF013   CASH     0.13     0.14   \n",
       "1073  2020-04-06    PETR4  BRPETRACNPR6   CASH    15.18    16.10   \n",
       "1365  2020-04-06    VVAR3  BRVVARACNOR1   CASH     4.08     4.58   \n",
       "1048  2020-04-06    OIBR3  BROIBRACNOR1   CASH     0.47     0.50   \n",
       "483   2020-04-06    BBDC4  BRBBDCACNPR8   CASH    20.53    21.38   \n",
       "\n",
       "      TradAvrgPric  LastPric  AdjstdQt  RefPric   TradQty  FinInstrmQty  \n",
       "788           0.13      0.13       NaN      NaN      73.0   476270000.0  \n",
       "1073         15.69     15.77       NaN      NaN  145376.0   123934200.0  \n",
       "1365          4.33      4.36       NaN      NaN   53030.0    89393700.0  \n",
       "1048          0.48      0.48       NaN      NaN    7080.0    78541300.0  \n",
       "483          21.04     21.03       NaN      NaN   70332.0    56656600.0  "
      ]
     },
     "execution_count": 25,
     "metadata": {},
     "output_type": "execute_result"
    }
   ],
   "source": [
    "sorted_db.head()"
   ]
  },
  {
   "cell_type": "code",
   "execution_count": null,
   "metadata": {},
   "outputs": [],
   "source": []
  }
 ],
 "metadata": {
  "kernelspec": {
   "display_name": "Python 3",
   "language": "python",
   "name": "python3"
  },
  "language_info": {
   "codemirror_mode": {
    "name": "ipython",
    "version": 3
   },
   "file_extension": ".py",
   "mimetype": "text/x-python",
   "name": "python",
   "nbconvert_exporter": "python",
   "pygments_lexer": "ipython3",
   "version": "3.8.2"
  }
 },
 "nbformat": 4,
 "nbformat_minor": 4
}
