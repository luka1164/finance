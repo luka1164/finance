{
 "cells": [
  {
   "cell_type": "code",
   "execution_count": 21,
   "metadata": {},
   "outputs": [
    {
     "data": {
      "text/html": [
       "<div>\n",
       "<style scoped>\n",
       "    .dataframe tbody tr th:only-of-type {\n",
       "        vertical-align: middle;\n",
       "    }\n",
       "\n",
       "    .dataframe tbody tr th {\n",
       "        vertical-align: top;\n",
       "    }\n",
       "\n",
       "    .dataframe thead th {\n",
       "        text-align: right;\n",
       "    }\n",
       "</style>\n",
       "<table border=\"1\" class=\"dataframe\">\n",
       "  <thead>\n",
       "    <tr style=\"text-align: right;\">\n",
       "      <th></th>\n",
       "      <th>PETR4.SA</th>\n",
       "      <th>Volume</th>\n",
       "    </tr>\n",
       "    <tr>\n",
       "      <th>Date</th>\n",
       "      <th></th>\n",
       "      <th></th>\n",
       "    </tr>\n",
       "  </thead>\n",
       "  <tbody>\n",
       "    <tr>\n",
       "      <th>2020-01-02</th>\n",
       "      <td>30.70</td>\n",
       "      <td>37774500.0</td>\n",
       "    </tr>\n",
       "    <tr>\n",
       "      <th>2020-01-03</th>\n",
       "      <td>30.45</td>\n",
       "      <td>71595600.0</td>\n",
       "    </tr>\n",
       "    <tr>\n",
       "      <th>2020-01-06</th>\n",
       "      <td>30.81</td>\n",
       "      <td>81844000.0</td>\n",
       "    </tr>\n",
       "    <tr>\n",
       "      <th>2020-01-07</th>\n",
       "      <td>30.69</td>\n",
       "      <td>32822000.0</td>\n",
       "    </tr>\n",
       "    <tr>\n",
       "      <th>2020-01-08</th>\n",
       "      <td>30.50</td>\n",
       "      <td>48215600.0</td>\n",
       "    </tr>\n",
       "  </tbody>\n",
       "</table>\n",
       "</div>"
      ],
      "text/plain": [
       "            PETR4.SA      Volume\n",
       "Date                            \n",
       "2020-01-02     30.70  37774500.0\n",
       "2020-01-03     30.45  71595600.0\n",
       "2020-01-06     30.81  81844000.0\n",
       "2020-01-07     30.69  32822000.0\n",
       "2020-01-08     30.50  48215600.0"
      ]
     },
     "execution_count": 21,
     "metadata": {},
     "output_type": "execute_result"
    }
   ],
   "source": [
    "import pandas as pd\n",
    "import datetime as dt\n",
    "import matplotlib.pyplot as plt\n",
    "import pandas_datareader as web\n",
    "\n",
    "start = dt.datetime(2020,1,1)\n",
    "end = dt.datetime(2020,4,5)\n",
    "\n",
    "main_df = pd.DataFrame()\n",
    "tickers = ['PETR4.SA']\n",
    "\n",
    "for ticker in tickers:\n",
    "    df = web.DataReader(ticker, 'yahoo', start, end)  \n",
    "    main_df['{}'.format(ticker)] = df['Close'].round(4)\n",
    "    main_df['Volume'] = df['Volume'].round(0)\n",
    "\n",
    "main_df.head()"
   ]
  },
  {
   "cell_type": "code",
   "execution_count": 40,
   "metadata": {},
   "outputs": [
    {
     "data": {
      "text/html": [
       "<div>\n",
       "<style scoped>\n",
       "    .dataframe tbody tr th:only-of-type {\n",
       "        vertical-align: middle;\n",
       "    }\n",
       "\n",
       "    .dataframe tbody tr th {\n",
       "        vertical-align: top;\n",
       "    }\n",
       "\n",
       "    .dataframe thead th {\n",
       "        text-align: right;\n",
       "    }\n",
       "</style>\n",
       "<table border=\"1\" class=\"dataframe\">\n",
       "  <thead>\n",
       "    <tr style=\"text-align: right;\">\n",
       "      <th></th>\n",
       "      <th>PETR4.SA</th>\n",
       "      <th>Volume</th>\n",
       "      <th>sma</th>\n",
       "      <th>volume_bb</th>\n",
       "    </tr>\n",
       "    <tr>\n",
       "      <th>Date</th>\n",
       "      <th></th>\n",
       "      <th></th>\n",
       "      <th></th>\n",
       "      <th></th>\n",
       "    </tr>\n",
       "  </thead>\n",
       "  <tbody>\n",
       "    <tr>\n",
       "      <th>2020-01-02</th>\n",
       "      <td>30.70</td>\n",
       "      <td>37774500.0</td>\n",
       "      <td>NaN</td>\n",
       "      <td>NaN</td>\n",
       "    </tr>\n",
       "    <tr>\n",
       "      <th>2020-01-03</th>\n",
       "      <td>30.45</td>\n",
       "      <td>71595600.0</td>\n",
       "      <td>NaN</td>\n",
       "      <td>NaN</td>\n",
       "    </tr>\n",
       "    <tr>\n",
       "      <th>2020-01-06</th>\n",
       "      <td>30.81</td>\n",
       "      <td>81844000.0</td>\n",
       "      <td>NaN</td>\n",
       "      <td>NaN</td>\n",
       "    </tr>\n",
       "    <tr>\n",
       "      <th>2020-01-07</th>\n",
       "      <td>30.69</td>\n",
       "      <td>32822000.0</td>\n",
       "      <td>NaN</td>\n",
       "      <td>NaN</td>\n",
       "    </tr>\n",
       "    <tr>\n",
       "      <th>2020-01-08</th>\n",
       "      <td>30.50</td>\n",
       "      <td>48215600.0</td>\n",
       "      <td>30.63</td>\n",
       "      <td>7.583441e+07</td>\n",
       "    </tr>\n",
       "  </tbody>\n",
       "</table>\n",
       "</div>"
      ],
      "text/plain": [
       "            PETR4.SA      Volume    sma     volume_bb\n",
       "Date                                                 \n",
       "2020-01-02     30.70  37774500.0    NaN           NaN\n",
       "2020-01-03     30.45  71595600.0    NaN           NaN\n",
       "2020-01-06     30.81  81844000.0    NaN           NaN\n",
       "2020-01-07     30.69  32822000.0    NaN           NaN\n",
       "2020-01-08     30.50  48215600.0  30.63  7.583441e+07"
      ]
     },
     "execution_count": 40,
     "metadata": {},
     "output_type": "execute_result"
    }
   ],
   "source": [
    "database = pd.DataFrame(index=main_df.index)\n",
    "database = main_df.copy()\n",
    "\n",
    "database['sma'] = database['PETR4.SA'].rolling(5).mean()\n",
    "database['volume_bb'] = database['Volume'].rolling(5).mean() + database['Volume'].rolling(5).std()\n",
    "\n",
    "database.drop(columns=['upper_bb', 'lower_bb', 'std'], inplace=True)\n",
    "\n",
    "database.head()"
   ]
  },
  {
   "cell_type": "code",
   "execution_count": 42,
   "metadata": {},
   "outputs": [
    {
     "data": {
      "image/png": "[encoded data removed]",
      "text/plain": [
       "<Figure size 432x288 with 2 Axes>"
      ]
     },
     "metadata": {
      "needs_background": "light"
     },
     "output_type": "display_data"
    }
   ],
   "source": [
    "ax1 = plt.subplot2grid((6,1), (0,0), rowspan=5, colspan=1)\n",
    "ax2 = plt.subplot2grid((6,1), (5,0), rowspan=1, colspan=1, sharex=ax1)\n",
    "\n",
    "ax1.plot(database.index, database['PETR4.SA'])\n",
    "ax1.plot(database.index, database['sma'])\n",
    "ax2.bar(database.index, database['Volume'])\n",
    "ax2.plot(database.index, database['volume_bb'])\n",
    "\n",
    "plt.show()"
   ]
  },
  {
   "cell_type": "code",
   "execution_count": null,
   "metadata": {},
   "outputs": [],
   "source": []
  }
 ],
 "metadata": {
  "kernelspec": {
   "display_name": "Python 3",
   "language": "python",
   "name": "python3"
  },
  "language_info": {
   "codemirror_mode": {
    "name": "ipython",
    "version": 3
   },
   "file_extension": ".py",
   "mimetype": "text/x-python",
   "name": "python",
   "nbconvert_exporter": "python",
   "pygments_lexer": "ipython3",
   "version": "3.8.2"
  }
 },
 "nbformat": 4,
 "nbformat_minor": 4
}
