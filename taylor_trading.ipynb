{
 "cells": [
  {
   "cell_type": "code",
   "execution_count": 4,
   "metadata": {},
   "outputs": [
    {
     "name": "stderr",
     "output_type": "stream",
     "text": [
      "c:\\users\\lucas\\appdata\\local\\programs\\python\\python38-32\\lib\\site-packages\\pandas_datareader\\compat\\__init__.py:7: FutureWarning: pandas.util.testing is deprecated. Use the functions in the public API at pandas.testing instead.\n",
      "  from pandas.util.testing import assert_frame_equal\n"
     ]
    },
    {
     "data": {
      "text/html": [
       "<div>\n",
       "<style scoped>\n",
       "    .dataframe tbody tr th:only-of-type {\n",
       "        vertical-align: middle;\n",
       "    }\n",
       "\n",
       "    .dataframe tbody tr th {\n",
       "        vertical-align: top;\n",
       "    }\n",
       "\n",
       "    .dataframe thead th {\n",
       "        text-align: right;\n",
       "    }\n",
       "</style>\n",
       "<table border=\"1\" class=\"dataframe\">\n",
       "  <thead>\n",
       "    <tr style=\"text-align: right;\">\n",
       "      <th></th>\n",
       "      <th>PETR4.SA</th>\n",
       "      <th>Volume</th>\n",
       "    </tr>\n",
       "    <tr>\n",
       "      <th>Date</th>\n",
       "      <th></th>\n",
       "      <th></th>\n",
       "    </tr>\n",
       "  </thead>\n",
       "  <tbody>\n",
       "    <tr>\n",
       "      <th>2020-01-02</th>\n",
       "      <td>30.70</td>\n",
       "      <td>37774500.0</td>\n",
       "    </tr>\n",
       "    <tr>\n",
       "      <th>2020-01-03</th>\n",
       "      <td>30.45</td>\n",
       "      <td>71595600.0</td>\n",
       "    </tr>\n",
       "    <tr>\n",
       "      <th>2020-01-06</th>\n",
       "      <td>30.81</td>\n",
       "      <td>81844000.0</td>\n",
       "    </tr>\n",
       "    <tr>\n",
       "      <th>2020-01-07</th>\n",
       "      <td>30.69</td>\n",
       "      <td>32822000.0</td>\n",
       "    </tr>\n",
       "    <tr>\n",
       "      <th>2020-01-08</th>\n",
       "      <td>30.50</td>\n",
       "      <td>48215600.0</td>\n",
       "    </tr>\n",
       "  </tbody>\n",
       "</table>\n",
       "</div>"
      ],
      "text/plain": [
       "            PETR4.SA      Volume\n",
       "Date                            \n",
       "2020-01-02     30.70  37774500.0\n",
       "2020-01-03     30.45  71595600.0\n",
       "2020-01-06     30.81  81844000.0\n",
       "2020-01-07     30.69  32822000.0\n",
       "2020-01-08     30.50  48215600.0"
      ]
     },
     "execution_count": 4,
     "metadata": {},
     "output_type": "execute_result"
    }
   ],
   "source": [
    "import pandas as pd\n",
    "import datetime as dt\n",
    "import matplotlib.pyplot as plt\n",
    "import pandas_datareader as web\n",
    "\n",
    "start = dt.datetime(2020,1,1)\n",
    "end = dt.datetime(2020,4,5)\n",
    "\n",
    "main_df = pd.DataFrame()\n",
    "tickers = ['PETR4.SA']\n",
    "\n",
    "for ticker in tickers:\n",
    "    df = web.DataReader(ticker, 'yahoo', start, end)  \n",
    "    main_df['{}'.format(ticker)] = df['Close'].round(4)\n",
    "    main_df['Volume'] = df['Volume'].round(0)\n",
    "\n",
    "main_df.head()"
   ]
  },
  {
   "cell_type": "code",
   "execution_count": 5,
   "metadata": {},
   "outputs": [
    {
     "data": {
      "text/html": [
       "<div>\n",
       "<style scoped>\n",
       "    .dataframe tbody tr th:only-of-type {\n",
       "        vertical-align: middle;\n",
       "    }\n",
       "\n",
       "    .dataframe tbody tr th {\n",
       "        vertical-align: top;\n",
       "    }\n",
       "\n",
       "    .dataframe thead th {\n",
       "        text-align: right;\n",
       "    }\n",
       "</style>\n",
       "<table border=\"1\" class=\"dataframe\">\n",
       "  <thead>\n",
       "    <tr style=\"text-align: right;\">\n",
       "      <th></th>\n",
       "      <th>PETR4.SA</th>\n",
       "      <th>Volume</th>\n",
       "      <th>sma</th>\n",
       "      <th>volume_bb</th>\n",
       "    </tr>\n",
       "    <tr>\n",
       "      <th>Date</th>\n",
       "      <th></th>\n",
       "      <th></th>\n",
       "      <th></th>\n",
       "      <th></th>\n",
       "    </tr>\n",
       "  </thead>\n",
       "  <tbody>\n",
       "    <tr>\n",
       "      <th>2020-01-08</th>\n",
       "      <td>30.50</td>\n",
       "      <td>48215600.0</td>\n",
       "      <td>30.630</td>\n",
       "      <td>7.583441e+07</td>\n",
       "    </tr>\n",
       "    <tr>\n",
       "      <th>2020-01-09</th>\n",
       "      <td>30.40</td>\n",
       "      <td>36102700.0</td>\n",
       "      <td>30.570</td>\n",
       "      <td>7.583640e+07</td>\n",
       "    </tr>\n",
       "    <tr>\n",
       "      <th>2020-01-10</th>\n",
       "      <td>30.27</td>\n",
       "      <td>25397500.0</td>\n",
       "      <td>30.534</td>\n",
       "      <td>6.712196e+07</td>\n",
       "    </tr>\n",
       "    <tr>\n",
       "      <th>2020-01-13</th>\n",
       "      <td>30.33</td>\n",
       "      <td>30676800.0</td>\n",
       "      <td>30.438</td>\n",
       "      <td>4.317041e+07</td>\n",
       "    </tr>\n",
       "    <tr>\n",
       "      <th>2020-01-14</th>\n",
       "      <td>30.00</td>\n",
       "      <td>39796500.0</td>\n",
       "      <td>30.300</td>\n",
       "      <td>4.476117e+07</td>\n",
       "    </tr>\n",
       "  </tbody>\n",
       "</table>\n",
       "</div>"
      ],
      "text/plain": [
       "            PETR4.SA      Volume     sma     volume_bb\n",
       "Date                                                  \n",
       "2020-01-08     30.50  48215600.0  30.630  7.583441e+07\n",
       "2020-01-09     30.40  36102700.0  30.570  7.583640e+07\n",
       "2020-01-10     30.27  25397500.0  30.534  6.712196e+07\n",
       "2020-01-13     30.33  30676800.0  30.438  4.317041e+07\n",
       "2020-01-14     30.00  39796500.0  30.300  4.476117e+07"
      ]
     },
     "execution_count": 5,
     "metadata": {},
     "output_type": "execute_result"
    }
   ],
   "source": [
    "database = pd.DataFrame(index=main_df.index)\n",
    "database = main_df.copy()\n",
    "\n",
    "database['sma'] = database['PETR4.SA'].rolling(5).mean()\n",
    "database['volume_bb'] = database['Volume'].rolling(5).mean() + database['Volume'].rolling(5).std()\n",
    "\n",
    "database.dropna(inplace=True)\n",
    "database.head()"
   ]
  },
  {
   "cell_type": "code",
   "execution_count": 6,
   "metadata": {},
   "outputs": [
    {
     "data": {
      "image/png": "[encoded data removed]",
      "text/plain": [
       "<Figure size 1440x864 with 2 Axes>"
      ]
     },
     "metadata": {
      "needs_background": "light"
     },
     "output_type": "display_data"
    }
   ],
   "source": [
    "plt.figure(figsize=(20,12))\n",
    "plt.xticks(database.index)\n",
    "plt.xlim(pd.Timestamp('2020-01-14'), pd.Timestamp('2020-04-03'))\n",
    "ax1 = plt.subplot2grid((10,1), (0,0), rowspan=5, colspan=1)\n",
    "ax2 = plt.subplot2grid((10,1), (6,0), rowspan=3, colspan=1, sharex=ax1)\n",
    "\n",
    "ax1.plot(database.index, database['PETR4.SA'])\n",
    "ax1.plot(database.index, database['sma'])\n",
    "ax2.bar(database.index, database['Volume'])\n",
    "ax2.plot(database.index, database['volume_bb'])\n",
    "\n",
    "plt.show()"
   ]
  },
  {
   "cell_type": "code",
   "execution_count": 11,
   "metadata": {},
   "outputs": [],
   "source": [
    "import numpy as np\n",
    "\n",
    "database['ret'] = np.log(database['PETR4.SA']/database['PETR4.SA'].shift(1))\n",
    "\n",
    "newtickers = ['PETR4.SA', 'GGBR4.SA', 'ITSA4.SA', 'MGLU3.SA']\n",
    "db = pd.DataFrame()\n",
    "\n",
    "for ticker in newtickers:\n",
    "    df = web.DataReader(ticker, 'yahoo', start, end)  \n",
    "    db['{}'.format(ticker)] = df['Close'].round(4)\n",
    "    db['ret-{}'.format(ticker)] = np.log(db['{}'.format(ticker)]/db['{}'.format(ticker)].shift(1))\n",
    "    \n",
    "db.dropna(inplace=True)"
   ]
  },
  {
   "cell_type": "code",
   "execution_count": 18,
   "metadata": {},
   "outputs": [
    {
     "data": {
      "text/html": [
       "<div>\n",
       "<style scoped>\n",
       "    .dataframe tbody tr th:only-of-type {\n",
       "        vertical-align: middle;\n",
       "    }\n",
       "\n",
       "    .dataframe tbody tr th {\n",
       "        vertical-align: top;\n",
       "    }\n",
       "\n",
       "    .dataframe thead th {\n",
       "        text-align: right;\n",
       "    }\n",
       "</style>\n",
       "<table border=\"1\" class=\"dataframe\">\n",
       "  <thead>\n",
       "    <tr style=\"text-align: right;\">\n",
       "      <th></th>\n",
       "      <th>ret-PETR4.SA</th>\n",
       "      <th>ret-GGBR4.SA</th>\n",
       "      <th>ret-ITSA4.SA</th>\n",
       "      <th>ret-MGLU3.SA</th>\n",
       "    </tr>\n",
       "  </thead>\n",
       "  <tbody>\n",
       "    <tr>\n",
       "      <th>ret-PETR4.SA</th>\n",
       "      <td>1.000000</td>\n",
       "      <td>0.904249</td>\n",
       "      <td>0.748640</td>\n",
       "      <td>0.814604</td>\n",
       "    </tr>\n",
       "    <tr>\n",
       "      <th>ret-GGBR4.SA</th>\n",
       "      <td>0.904249</td>\n",
       "      <td>1.000000</td>\n",
       "      <td>0.841784</td>\n",
       "      <td>0.849836</td>\n",
       "    </tr>\n",
       "    <tr>\n",
       "      <th>ret-ITSA4.SA</th>\n",
       "      <td>0.748640</td>\n",
       "      <td>0.841784</td>\n",
       "      <td>1.000000</td>\n",
       "      <td>0.781774</td>\n",
       "    </tr>\n",
       "    <tr>\n",
       "      <th>ret-MGLU3.SA</th>\n",
       "      <td>0.814604</td>\n",
       "      <td>0.849836</td>\n",
       "      <td>0.781774</td>\n",
       "      <td>1.000000</td>\n",
       "    </tr>\n",
       "  </tbody>\n",
       "</table>\n",
       "</div>"
      ],
      "text/plain": [
       "              ret-PETR4.SA  ret-GGBR4.SA  ret-ITSA4.SA  ret-MGLU3.SA\n",
       "ret-PETR4.SA      1.000000      0.904249      0.748640      0.814604\n",
       "ret-GGBR4.SA      0.904249      1.000000      0.841784      0.849836\n",
       "ret-ITSA4.SA      0.748640      0.841784      1.000000      0.781774\n",
       "ret-MGLU3.SA      0.814604      0.849836      0.781774      1.000000"
      ]
     },
     "execution_count": 18,
     "metadata": {},
     "output_type": "execute_result"
    }
   ],
   "source": [
    "db.drop(columns=tickers).dropna(inplace=True)\n",
    "db.corr()"
   ]
  },
  {
   "cell_type": "code",
   "execution_count": null,
   "metadata": {},
   "outputs": [],
   "source": []
  }
 ],
 "metadata": {
  "kernelspec": {
   "display_name": "Python 3",
   "language": "python",
   "name": "python3"
  },
  "language_info": {
   "codemirror_mode": {
    "name": "ipython",
    "version": 3
   },
   "file_extension": ".py",
   "mimetype": "text/x-python",
   "name": "python",
   "nbconvert_exporter": "python",
   "pygments_lexer": "ipython3",
   "version": "3.8.2"
  }
 },
 "nbformat": 4,
 "nbformat_minor": 4
}
